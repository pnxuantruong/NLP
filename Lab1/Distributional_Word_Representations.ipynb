{
  "nbformat": 4,
  "nbformat_minor": 0,
  "metadata": {
    "colab": {
      "provenance": [],
      "collapsed_sections": [],
      "toc_visible": true
    },
    "kernelspec": {
      "name": "python3",
      "display_name": "Python 3"
    },
    "language_info": {
      "name": "python"
    }
  },
  "cells": [
    {
      "cell_type": "code",
      "execution_count": 1,
      "metadata": {
        "colab": {
          "base_uri": "https://localhost:8080/"
        },
        "id": "lrdxWY5PTssR",
        "outputId": "d45ee11c-44a1-4d28-b860-2ae9a13ae7b3"
      },
      "outputs": [
        {
          "output_type": "stream",
          "name": "stdout",
          "text": [
            "/content/drive/MyDrive/NLP/Lab1\n"
          ]
        }
      ],
      "source": [
        "%cd \"/content/drive/MyDrive/NLP/Lab1\""
      ]
    },
    {
      "cell_type": "markdown",
      "source": [
        "# Initialize required elements"
      ],
      "metadata": {
        "id": "My8z4qsB4ZD0"
      }
    },
    {
      "cell_type": "code",
      "source": [
        "import numpy as np\n",
        "import pdb\n",
        "# from sklearn.metrics.pairwise import cosine_distances as cosine\n",
        "from scipy import stats\n",
        "from scipy.spatial.distance import cosine\n",
        "from tqdm import tqdm"
      ],
      "metadata": {
        "id": "OK8WVfaRayUi"
      },
      "execution_count": 2,
      "outputs": []
    },
    {
      "cell_type": "code",
      "source": [
        "V = open(\"31190-a1-files/vocab-wordsim.txt\").read().split(\"\\n\")[:-1]\n",
        "V_C = open(\"31190-a1-files/vocab-25k.txt\").read().split(\"\\n\")[:-1]\n",
        "V_set = {word: idx for idx, word in enumerate(V)}\n",
        "V_C_set = {word: idx for idx, word in enumerate(V_C)}"
      ],
      "metadata": {
        "id": "GddpLkJMZrkO"
      },
      "execution_count": 3,
      "outputs": []
    },
    {
      "cell_type": "code",
      "source": [
        "corpus = open(\"wiki-1percent.txt/wiki-1percent.txt\").read().split(\"\\n\")[:-1]"
      ],
      "metadata": {
        "id": "JU0f1Y0Va10P"
      },
      "execution_count": 3,
      "outputs": []
    },
    {
      "cell_type": "markdown",
      "source": [
        "## 1.1 Distributional Counting"
      ],
      "metadata": {
        "id": "BH3E10dHEQc-"
      }
    },
    {
      "cell_type": "code",
      "source": [
        "def counting(corpus, V, V_C, V_set, V_C_set, w):\n",
        "  C = np.zeros((len(V), len(V_C)), dtype=float)\n",
        "  for line in tqdm(corpus):\n",
        "    words = ['<s>'] + line.split(\" \") + ['</s>']\n",
        "    length = len(words)\n",
        "\n",
        "    for idx, word in enumerate(words):\n",
        "      if idx > 0 and idx  < length - 1:\n",
        "        # print(idx, word)\n",
        "        if word in V_set:\n",
        "          # print(word, words[max(idx-w, 0): idx], words[idx+1: min(idx+w+1, length)])\n",
        "          # pdb.set_trace();\n",
        "          for context_word in words[max(idx-w, 0): idx] + words[idx+1: min(idx+w+1, length)]:\n",
        "            if context_word in V_C_set:\n",
        "              C[V_set[word], V_C_set[context_word]] +=1\n",
        "  return C\n"
      ],
      "metadata": {
        "id": "s5iK2MQ7baRX"
      },
      "execution_count": 4,
      "outputs": []
    },
    {
      "cell_type": "code",
      "source": [
        "C = counting(corpus, V, V_C, V_set, V_C_set, w=3)"
      ],
      "metadata": {
        "colab": {
          "base_uri": "https://localhost:8080/"
        },
        "id": "XI8uZDjdfQsi",
        "outputId": "536c3f78-a9fd-42c5-cc56-a1702ec22f7c"
      },
      "execution_count": 6,
      "outputs": [
        {
          "output_type": "stream",
          "name": "stderr",
          "text": [
            "100%|██████████| 997898/997898 [00:17<00:00, 57999.49it/s]\n"
          ]
        }
      ]
    },
    {
      "cell_type": "code",
      "source": [
        "print(C)"
      ],
      "metadata": {
        "colab": {
          "base_uri": "https://localhost:8080/"
        },
        "id": "R5-3i5eJlSNK",
        "outputId": "b6be0a05-adee-49ec-ba44-488e765263f9"
      },
      "execution_count": 7,
      "outputs": [
        {
          "output_type": "stream",
          "name": "stdout",
          "text": [
            "[[ 75. 118. 360. ...   0.   0.   0.]\n",
            " [  7.  24.  62. ...   0.   0.   0.]\n",
            " [101.  72. 849. ...   0.   0.   0.]\n",
            " ...\n",
            " [ 10.  16.  28. ...   0.   0.   0.]\n",
            " [ 99. 203. 687. ...   0.   0.   0.]\n",
            " [ 47.  45. 196. ...   0.   0.   0.]]\n"
          ]
        }
      ]
    },
    {
      "cell_type": "code",
      "source": [
        "def eval_word_similarity(C, path):\n",
        "  gold = [line.split(\"\\t\") for line in open(path).read().split(\"\\n\")[1:-1]]\n",
        "\n",
        "  y, x = [], [] #chứa giá trị tương đồng cho từng cặp từ của người và máy\n",
        "\n",
        "  for line in gold:\n",
        "    word_1 = line[0]\n",
        "    word_2 = line[1]\n",
        "    gold_score = float(line[2])\n",
        "    y.append(gold_score)\n",
        "    if word_1 not in V_set or word_2 not in V_set:\n",
        "      x.append(0)\n",
        "    else: \n",
        "      word_1_vec = C[V_set[word_1], :]\n",
        "      word_2_vec = C[V_set[word_2], :]\n",
        "      x.append(1 - cosine(word_1_vec, word_2_vec))\n",
        "  return stats.spearmanr(x, y, axis = None).correlation"
      ],
      "metadata": {
        "id": "7QVENEx-g5UZ"
      },
      "execution_count": 5,
      "outputs": []
    },
    {
      "cell_type": "code",
      "source": [
        "spearmanr_correlation_MEN = eval_word_similarity(C, \"31190-a1-files/men.txt\")\n",
        "spearmanr_correlation_SimLex = eval_word_similarity(C, \"31190-a1-files/simlex-999.txt\")\n",
        "print(spearmanr_correlation_MEN, spearmanr_correlation_SimLex)"
      ],
      "metadata": {
        "colab": {
          "base_uri": "https://localhost:8080/"
        },
        "id": "lQVgRoxGjW9H",
        "outputId": "5f47a42b-9b60-47b3-abc5-86927295a4d8"
      },
      "execution_count": 9,
      "outputs": [
        {
          "output_type": "stream",
          "name": "stdout",
          "text": [
            "0.22433852567075044 0.06134632093956428\n"
          ]
        },
        {
          "output_type": "stream",
          "name": "stderr",
          "text": [
            "/usr/local/lib/python3.7/dist-packages/scipy/spatial/distance.py:699: RuntimeWarning: invalid value encountered in double_scalars\n",
            "  dist = 1.0 - uv / np.sqrt(uu * vv)\n"
          ]
        }
      ]
    },
    {
      "cell_type": "markdown",
      "source": [
        "## 1.2 Computing PMIs"
      ],
      "metadata": {
        "id": "A5rIHt64EA0_"
      }
    },
    {
      "cell_type": "code",
      "source": [
        "def compute_PMI(C):\n",
        "  C_pmi = np.zeros(C.shape, dtype=float) \n",
        "  total_count_C = C.sum()\n",
        "  row_count_C = C.sum(axis=1)\n",
        "  column_count_C = C.sum(axis=0)\n",
        "\n",
        "  for i in tqdm(range(C.shape[0])):\n",
        "    for j in range(C.shape[1]):\n",
        "      if(C[i][j] == 0): continue\n",
        "      else: \n",
        "        C_pmi[i][j] = np.log2(C[i][j] * total_count_C / ( row_count_C[i] * column_count_C[j] ))\n",
        "  \n",
        "  return C_pmi"
      ],
      "metadata": {
        "id": "8naODQHKrnKy"
      },
      "execution_count": 6,
      "outputs": []
    },
    {
      "cell_type": "code",
      "source": [
        "C_pmi = compute_PMI(C)"
      ],
      "metadata": {
        "id": "9q_g0UCpsmgZ",
        "colab": {
          "base_uri": "https://localhost:8080/"
        },
        "outputId": "94a7695d-f7d7-46ff-97cd-c6091aa584fa"
      },
      "execution_count": 11,
      "outputs": [
        {
          "output_type": "stream",
          "name": "stderr",
          "text": [
            "100%|██████████| 1577/1577 [00:23<00:00, 67.60it/s]\n"
          ]
        }
      ]
    },
    {
      "cell_type": "code",
      "source": [
        "spearmanr_correlation_MEN = eval_word_similarity(C_pmi, \"31190-a1-files/men.txt\")\n",
        "spearmanr_correlation_SimLex = eval_word_similarity(C_pmi, \"31190-a1-files/simlex-999.txt\")\n",
        "print(spearmanr_correlation_MEN, spearmanr_correlation_SimLex)"
      ],
      "metadata": {
        "colab": {
          "base_uri": "https://localhost:8080/"
        },
        "id": "PG-PwEDYxQcp",
        "outputId": "a84b830f-4e1d-4010-860b-00cc6396a734"
      },
      "execution_count": 12,
      "outputs": [
        {
          "output_type": "stream",
          "name": "stdout",
          "text": [
            "0.5340533067559707 0.22557679856872018\n"
          ]
        }
      ]
    },
    {
      "cell_type": "markdown",
      "source": [
        "## 1.3 Experiment"
      ],
      "metadata": {
        "id": "CJsNfQR04KtR"
      }
    },
    {
      "cell_type": "code",
      "source": [
        "windows = [1, 3, 6]\n",
        "for w in windows:\n",
        "  # print(\"Windows: \", w)\n",
        "  C = counting(corpus, V, V_C, V_set, V_C_set, w)\n",
        "  C_pmi = compute_PMI(C)\n",
        "  print(\"EvalWS(C) MEN.txt: \", eval_word_similarity(C, \"31190-a1-files/men.txt\"))\n",
        "  print(\"EvalWS(C) SimLex-999.txt: \", eval_word_similarity(C, \"31190-a1-files/simlex-999.txt\"))\n",
        "  print(\"EvalWS(C_pmi) MEN.txt: \", eval_word_similarity(C_pmi, \"31190-a1-files/men.txt\"))\n",
        "  print(\"EvalWS(C_pmi) SimLex-999.txt: \", eval_word_similarity(C_pmi, \"31190-a1-files/simlex-999.txt\"))"
      ],
      "metadata": {
        "id": "uO5-BhZO4ENF",
        "colab": {
          "base_uri": "https://localhost:8080/"
        },
        "outputId": "353eb0a9-475d-47c6-e8d7-8e2ebd8ddce3"
      },
      "execution_count": 13,
      "outputs": [
        {
          "output_type": "stream",
          "name": "stderr",
          "text": [
            "100%|██████████| 997898/997898 [00:11<00:00, 85965.03it/s]\n",
            "100%|██████████| 1577/1577 [00:21<00:00, 72.02it/s]\n"
          ]
        },
        {
          "output_type": "stream",
          "name": "stdout",
          "text": [
            "EvalWS(C) MEN.txt:  0.20992265447069547\n",
            "EvalWS(C) SimLex-999.txt:  0.07753059821419862\n",
            "EvalWS(C_pmi) MEN.txt:  0.46530280519315015\n",
            "EvalWS(C_pmi) SimLex-999.txt:  0.26977579767342286\n"
          ]
        },
        {
          "output_type": "stream",
          "name": "stderr",
          "text": [
            "100%|██████████| 997898/997898 [00:18<00:00, 52975.66it/s]\n",
            "100%|██████████| 1577/1577 [00:23<00:00, 66.74it/s]\n"
          ]
        },
        {
          "output_type": "stream",
          "name": "stdout",
          "text": [
            "EvalWS(C) MEN.txt:  0.22433852567075044\n",
            "EvalWS(C) SimLex-999.txt:  0.06134632093956428\n",
            "EvalWS(C_pmi) MEN.txt:  0.5340533067559707\n",
            "EvalWS(C_pmi) SimLex-999.txt:  0.22557679856872018\n"
          ]
        },
        {
          "output_type": "stream",
          "name": "stderr",
          "text": [
            "100%|██████████| 997898/997898 [00:23<00:00, 42592.98it/s]\n",
            "100%|██████████| 1577/1577 [00:26<00:00, 60.11it/s]\n"
          ]
        },
        {
          "output_type": "stream",
          "name": "stdout",
          "text": [
            "EvalWS(C) MEN.txt:  0.23790636810978752\n",
            "EvalWS(C) SimLex-999.txt:  0.040553547139409986\n",
            "EvalWS(C_pmi) MEN.txt:  0.5423454654769123\n",
            "EvalWS(C_pmi) SimLex-999.txt:  0.18367996243967827\n"
          ]
        }
      ]
    },
    {
      "cell_type": "markdown",
      "source": [
        "-- Spearmanr correlation increases following to the increasement of window in dataset MEN.txt\n",
        "\n",
        "-- Spearmanr correlation decreases following to the increasement of window in dataset SimLex-999.txt"
      ],
      "metadata": {
        "id": "2y_qes7lDc6T"
      }
    },
    {
      "cell_type": "markdown",
      "source": [
        "## 1.4 Analysis"
      ],
      "metadata": {
        "id": "8d9ll3PsEiIm"
      }
    },
    {
      "cell_type": "code",
      "source": [
        "V = open(\"31190-a1-files/vocab-25k.txt\").read().split(\"\\n\")[:-1]\n",
        "V_C = open(\"31190-a1-files/vocab-25k.txt\").read().split(\"\\n\")[:-1]\n",
        "V_set = {word: idx for idx, word in enumerate(V)}\n",
        "V_C_set = {word: idx for idx, word in enumerate(V_C)}"
      ],
      "metadata": {
        "id": "B5cP2OrHHIrx"
      },
      "execution_count": 7,
      "outputs": []
    },
    {
      "cell_type": "code",
      "source": [
        "def n_nearest_neighbors(C_pmi, query_word, V, V_set,  n):\n",
        "  cosine_similarities = []\n",
        "  query_word_vec = C_pmi[V_set[query_word], :]\n",
        "  # print(query_word_vec)\n",
        "  word_num = C_pmi.shape[0]\n",
        "  n_nearest = np.arange(word_num)\n",
        "  for i in range(word_num):\n",
        "    word_vec = C_pmi[i, :]\n",
        "    cosine_similarities.append(1 - cosine(query_word_vec, word_vec))\n",
        "  \n",
        "  # discard words with cosine similarity = 1\n",
        "  n_nearest = np.array(sorted(n_nearest, key=lambda x: cosine_similarities[x], reverse=True))\n",
        "  n_nearest = [nearest for nearest in n_nearest if cosine_similarities[nearest] < 1]\n",
        "  return [ V[i] for i in n_nearest[:n] ]"
      ],
      "metadata": {
        "id": "V2F4rFkbaRO7"
      },
      "execution_count": 8,
      "outputs": []
    },
    {
      "cell_type": "code",
      "source": [
        "def n_nearest_neighbors_of_words(C_pmi, words, V, V_set, n):\n",
        "  return np.array([n_nearest_neighbors(C_pmi, word, V, V_set, n) for word in words])"
      ],
      "metadata": {
        "id": "rxNLLFYnD6jF"
      },
      "execution_count": 9,
      "outputs": []
    },
    {
      "cell_type": "code",
      "source": [
        "nouns = [\"school\", \"city\", \"information\", \"family\", \"government\"]\n",
        "verbs = [\"edits\", \"held\", \"took\", \"published\", \"created\"]\n",
        "adjectives = [\"old\", \"central\", \"late\", \"political\", \"important\"]\n",
        "prepositions = [\"about\", \"for\", \"before\", \"in\", \"always\"]\n",
        "multiple_sences_words = [\"bank\", \"cell\", \"apple\", \"apples\", \"axes\", \"frame\", \"light\", \"well\"]"
      ],
      "metadata": {
        "id": "IaykiuMfB08n"
      },
      "execution_count": 19,
      "outputs": []
    },
    {
      "cell_type": "markdown",
      "source": [
        "### Windows size = 1"
      ],
      "metadata": {
        "id": "CkBBGf8cjNcP"
      }
    },
    {
      "cell_type": "code",
      "source": [
        "C_pmi = []"
      ],
      "metadata": {
        "id": "DwP-u121T3rc"
      },
      "execution_count": 11,
      "outputs": []
    },
    {
      "cell_type": "code",
      "source": [
        "C_pmi = compute_PMI(counting(corpus, V, V_C, V_set, V_C_set, w=1))\n",
        "# loại các giá trị ko dương để khi tính cosine sẽ ko trả về giá trị âm(trái nghĩa) trong khi thuật toán ko biểu hiện sự trái nghĩa\n",
        "# C_pmi_w = np.where(C_pmi_w > 0, C_pmi_w, 0)"
      ],
      "metadata": {
        "colab": {
          "base_uri": "https://localhost:8080/"
        },
        "id": "akYZOXA9ys77",
        "outputId": "7955114c-7d9b-45e9-ed33-02eed7d06302"
      },
      "execution_count": 12,
      "outputs": [
        {
          "output_type": "stream",
          "name": "stderr",
          "text": [
            "100%|██████████| 997898/997898 [01:08<00:00, 14492.76it/s]\n",
            "100%|██████████| 25000/25000 [05:31<00:00, 75.51it/s]\n"
          ]
        }
      ]
    },
    {
      "cell_type": "code",
      "source": [
        "print(n_nearest_neighbors(C_pmi, \"monster\", V, V_set, 10))"
      ],
      "metadata": {
        "colab": {
          "base_uri": "https://localhost:8080/"
        },
        "id": "rKIDCxp9eTpd",
        "outputId": "a5ad78f3-7207-45e6-e7a3-872b527858c1"
      },
      "execution_count": 13,
      "outputs": [
        {
          "output_type": "stream",
          "name": "stderr",
          "text": [
            "/usr/local/lib/python3.7/dist-packages/scipy/spatial/distance.py:699: RuntimeWarning: invalid value encountered in double_scalars\n",
            "  dist = 1.0 - uv / np.sqrt(uu * vv)\n"
          ]
        },
        {
          "output_type": "stream",
          "name": "stdout",
          "text": [
            "['dragon', 'tyrant', 'creatures', 'monsters', 'jar', 'hornet', 'rhinoceros', 'invaders', 'gangster', 'robot']\n"
          ]
        }
      ]
    },
    {
      "cell_type": "markdown",
      "source": [
        "#### Nouns"
      ],
      "metadata": {
        "id": "NHM5r_7qi-AX"
      }
    },
    {
      "cell_type": "code",
      "source": [
        "print(nouns)\n",
        "print(n_nearest_neighbors_of_words(C_pmi, nouns, V, V_set, 10))"
      ],
      "metadata": {
        "colab": {
          "base_uri": "https://localhost:8080/"
        },
        "id": "GnCo9cIyEsAl",
        "outputId": "ee697cc2-ca31-4789-830f-ecd32600697d"
      },
      "execution_count": 14,
      "outputs": [
        {
          "output_type": "stream",
          "name": "stdout",
          "text": [
            "['school', 'city', 'information', 'family', 'government']\n",
            "[['college' 'schools' 'university' 'education' 'high' 'church' 'city'\n",
            "  \"'s\" 'at' 'new']\n",
            " ['town' 'county' 'university' 'area' 'district' 'state' 'school' 'south'\n",
            "  'north' 'near']\n",
            " ['data' 'info' 'content' 'evidence' 'material' 'knowledge' 'sources'\n",
            "  'details' 'articles' 'coverage']\n",
            " [\"'s\" 'john' 'house' 'and' 'william' 'families' 'who' 'james' 'father'\n",
            "  '(']\n",
            " ['politician' 'authorities' 'army' 'footballer' 'constitution'\n",
            "  'national' 'parliament' 'military' 'state' 'party']]\n"
          ]
        }
      ]
    },
    {
      "cell_type": "markdown",
      "source": [
        "#### Verbs"
      ],
      "metadata": {
        "id": "1O_XLh52jFY5"
      }
    },
    {
      "cell_type": "code",
      "source": [
        "print(verbs)\n",
        "print(n_nearest_neighbors_of_words(C_pmi, verbs, V, V_set, 10))"
      ],
      "metadata": {
        "colab": {
          "base_uri": "https://localhost:8080/"
        },
        "id": "ztN8bOSTFTfg",
        "outputId": "d27509b4-643c-4358-a496-91b684e80313"
      },
      "execution_count": 15,
      "outputs": [
        {
          "output_type": "stream",
          "name": "stdout",
          "text": [
            "['edits', 'held', 'took', 'published', 'created']\n",
            "[['comments' 'articles' 'contributions' 'copies' 'edit' 'editing'\n",
            "  'editors' 'contribs' 'people' 'years']\n",
            " ['organized' 'used' 'took' 'taken' 'found' 'hosted' 'were' 'played'\n",
            "  'published' 'referred']\n",
            " ['take' \"'s\" 'won' 'had' 'takes' ',' 'and' '(' 'taking' 'became']\n",
            " ['written' 'printed' 'cited' 'released' 'edited' 'collected' 'appeared'\n",
            "  'wrote' 'publish' 'reprinted']\n",
            " ['produced' 'added' 'made' 'done' 'designed' 'released' 'built' 'used'\n",
            "  'developed' 'published']]\n"
          ]
        }
      ]
    },
    {
      "cell_type": "markdown",
      "source": [
        "#### Adjectives"
      ],
      "metadata": {
        "id": "KlZPVjz9jO99"
      }
    },
    {
      "cell_type": "code",
      "source": [
        "print(adjectives)\n",
        "print(n_nearest_neighbors_of_words(C_pmi, adjectives, V, V_set, 10))"
      ],
      "metadata": {
        "colab": {
          "base_uri": "https://localhost:8080/"
        },
        "outputId": "958de2f9-84cb-40bc-f172-5e19d701d1f4",
        "id": "a1INPoG5FaKN"
      },
      "execution_count": 16,
      "outputs": [
        {
          "output_type": "stream",
          "name": "stdout",
          "text": [
            "['old', 'central', 'late', 'political', 'important']\n",
            "[['former' 'new' 'and' 'ancient' \"'s\" 'original' 'road' 'near'\n",
            "  'traditional' 'own']\n",
            " ['southern' 'northern' 'western' 'eastern' 'east' 'northeastern' 'south'\n",
            "  'southeastern' 'north' 'west']\n",
            " ['early' 'mid' 'october' 'december' 'september' 'january' 'february'\n",
            "  'july' 'november' 'june']\n",
            " ['social' 'religious' 'economic' 'cultural' 'legal' 'communist'\n",
            "  'financial' 'military' 'liberal' 'government']\n",
            " ['significant' 'major' 'notable' 'main' 'key' 'interesting' 'valuable'\n",
            "  'useful' 'crucial' 'specific']]\n"
          ]
        }
      ]
    },
    {
      "cell_type": "markdown",
      "source": [
        "#### Prepositions"
      ],
      "metadata": {
        "id": "vYtiPXZzjS6p"
      }
    },
    {
      "cell_type": "code",
      "source": [
        "print(prepositions)\n",
        "print(n_nearest_neighbors_of_words(C_pmi, prepositions, V, V_set, 10))"
      ],
      "metadata": {
        "colab": {
          "base_uri": "https://localhost:8080/"
        },
        "outputId": "6a2f52b7-60ac-48e9-ef2c-2476f85a5ddd",
        "id": "A7zdWIeSFfco"
      },
      "execution_count": 17,
      "outputs": [
        {
          "output_type": "stream",
          "name": "stdout",
          "text": [
            "['about', 'for', 'before', 'in', 'always']\n",
            "[['over' 'approximately' 'than' 'around' 'years' 'people' 'some' 'when'\n",
            "  'or' 'are']\n",
            " ['or' 'with' 'and' 'on' 'as' 'at' 'from' 'are' 'by' 'of']\n",
            " ['after' 'while' 'when' 'without' 'from' 'until' 'during' 'into' 'and'\n",
            "  'began']\n",
            " ['.' 'at' 'from' 'february' ')' 'january' 'june' 'november' 'october'\n",
            "  'july']\n",
            " ['usually' 'often' 'never' 'generally' 'still' 'really' 'actually' \"'t\"\n",
            "  'sometimes' 'just']]\n"
          ]
        }
      ]
    },
    {
      "cell_type": "markdown",
      "source": [
        "#### Multiple senses words "
      ],
      "metadata": {
        "id": "FcXDSFGRjYOy"
      }
    },
    {
      "cell_type": "code",
      "source": [
        "# multiple senses words \n",
        "print(multiple_sences_words)\n",
        "print(n_nearest_neighbors_of_words(C_pmi, multiple_sences_words, V, V_set, 10))"
      ],
      "metadata": {
        "colab": {
          "base_uri": "https://localhost:8080/"
        },
        "id": "ntZEhd6PUiAy",
        "outputId": "7d6bfb9f-7a83-4cf3-b969-752c1eae8f75"
      },
      "execution_count": 20,
      "outputs": [
        {
          "output_type": "stream",
          "name": "stdout",
          "text": [
            "['bank', 'cell', 'apple', 'apples', 'axes', 'frame', 'light', 'well']\n"
          ]
        },
        {
          "output_type": "stream",
          "name": "stderr",
          "text": [
            "/usr/local/lib/python3.7/dist-packages/scipy/spatial/distance.py:699: RuntimeWarning: invalid value encountered in double_scalars\n",
            "  dist = 1.0 - uv / np.sqrt(uu * vv)\n"
          ]
        },
        {
          "output_type": "stream",
          "name": "stdout",
          "text": [
            "[['banks' 'insurance' 'company' 'corporation' 'banking' 'government'\n",
            "  'railway' 'library' 'business' 'companies']\n",
            " ['cells' 'cellular' 'tissue' 'neuronal' 'protein' 'proteins' 'syndrome'\n",
            "  'brain' 'tissues' 'molecules']\n",
            " ['chili' 'cherry' 'olive' 'plum' 'almond' 'desktop' 'xm' 'pear' 'peach'\n",
            "  'palm']\n",
            " ['bananas' 'brains' 'israelis' 'kinds' 'olives' 'oranges' 'candles'\n",
            "  'jokes' 'specifics' 'translucent']\n",
            " ['facets' 'paths' 'phases' 'tributaries' 'concurrency' 'atypical'\n",
            "  'engravings' 'b-sides' 'antagonists' 'rubble']\n",
            " ['frames' 'brick' 'two-story' 'tubing' 'rear' 'framed' 'cornice'\n",
            "  'panels' 'framing' 'structure']\n",
            " ['heavy' 'lights' 'bright' 'dark' 'radiation' 'pale' 'fire' 'water' 'or'\n",
            "  'regiment']\n",
            " ['poorly' 'be' 'been' 'however' 'there' 'not' 'debate' 'preserved'\n",
            "  'discussion' 'united']]\n"
          ]
        }
      ]
    },
    {
      "cell_type": "markdown",
      "source": [
        "### Windows size = 6"
      ],
      "metadata": {
        "id": "hJbabvHmBU1y"
      }
    },
    {
      "cell_type": "code",
      "source": [
        "C_pmi = []"
      ],
      "metadata": {
        "id": "EZd_2fa7LmRH"
      },
      "execution_count": 21,
      "outputs": []
    },
    {
      "cell_type": "code",
      "source": [
        "C_pmi = compute_PMI(counting(corpus, V, V_C, V_set, V_C_set, w=6))"
      ],
      "metadata": {
        "colab": {
          "base_uri": "https://localhost:8080/"
        },
        "id": "FV0SB_NsdnEe",
        "outputId": "fac11b49-1b9a-4aee-9ed3-1560e01803e6"
      },
      "execution_count": 22,
      "outputs": [
        {
          "output_type": "stream",
          "name": "stderr",
          "text": [
            "100%|██████████| 997898/997898 [02:59<00:00, 5565.11it/s]\n",
            "100%|██████████| 25000/25000 [06:09<00:00, 67.70it/s]\n"
          ]
        }
      ]
    },
    {
      "cell_type": "code",
      "source": [
        "print(n_nearest_neighbors(C_pmi, \"monster\", V, V_set, 10))"
      ],
      "metadata": {
        "colab": {
          "base_uri": "https://localhost:8080/"
        },
        "outputId": "f1bb7a30-d28a-4847-966a-13f299141182",
        "id": "WieebMRGDDNB"
      },
      "execution_count": 26,
      "outputs": [
        {
          "output_type": "stream",
          "name": "stdout",
          "text": [
            "['evil', 'giant', 'creature', 'monsters', 'godzilla', 'dragon', 'dog', 'ghost', 'horror', 'girl']\n"
          ]
        }
      ]
    },
    {
      "cell_type": "markdown",
      "source": [
        "#### Nouns"
      ],
      "metadata": {
        "id": "LgUig3FBjnln"
      }
    },
    {
      "cell_type": "code",
      "source": [
        "print(nouns)\n",
        "print(n_nearest_neighbors_of_words(C_pmi, nouns, V, V_set, 10))"
      ],
      "metadata": {
        "colab": {
          "base_uri": "https://localhost:8080/"
        },
        "outputId": "d4602674-a7d7-4449-a8b8-7ca5c4e36152",
        "id": "LlteUs7BKzSi"
      },
      "execution_count": 36,
      "outputs": [
        {
          "output_type": "stream",
          "name": "stdout",
          "text": [
            "['school', 'city', 'information', 'family', 'government']\n",
            "[['college' 'university' 'high' 'city' 'students' 'schools' 'district'\n",
            "  'year' 'county' 'state']\n",
            " ['town' 'north' 'located' 'south' 'county' 'area' 'west' 'district'\n",
            "  'school' 'york']\n",
            " ['sources' 'data' 'wikipedia' 'any' 'articles' 'content' 'can' 'source'\n",
            "  'use' 'if']\n",
            " ['father' 'known' 'house' 'her' 'son' 'born' 'species' 'church' 'who'\n",
            "  'john']\n",
            " ['party' 'federal' 'political' 'minister' 'state' 'military' 'council'\n",
            "  'president' 'public' 'act']]\n"
          ]
        }
      ]
    },
    {
      "cell_type": "markdown",
      "source": [
        "#### Verbs"
      ],
      "metadata": {
        "id": "oui0_99Ijnlo"
      }
    },
    {
      "cell_type": "code",
      "source": [
        "print(verbs)\n",
        "print(n_nearest_neighbors_of_words(C_pmi, verbs, V, V_set, 10))"
      ],
      "metadata": {
        "colab": {
          "base_uri": "https://localhost:8080/"
        },
        "outputId": "f4fb5393-d9af-4591-f419-66e4d5bcb3bc",
        "id": "P_unJLAtKzSl"
      },
      "execution_count": 37,
      "outputs": [
        {
          "output_type": "stream",
          "name": "stdout",
          "text": [
            "['edits', 'held', 'took', 'published', 'created']\n",
            "[['edit' 'comments' 'user' 'discussion' 'talk' 'page' 'please'\n",
            "  'wikipedia' 'appropriate' 'me']\n",
            " ['won' 'took' 'september' 'august' 'june' 'july' 'national' 'october'\n",
            "  'november' 'march']\n",
            " ['place' 'held' 'became' 'march' 'began' 'june' 'january' 'april' 'july'\n",
            "  'during']\n",
            " ['book' 'books' 'wrote' 'written' 'magazine' 'journal' 'author' 'novel'\n",
            "  'born' 'released']\n",
            " ['using' 'including' 'produced' 'based' 'published' 'called' 'written'\n",
            "  'create' 'developed' 'named']]\n"
          ]
        }
      ]
    },
    {
      "cell_type": "markdown",
      "source": [
        "#### Adjectives"
      ],
      "metadata": {
        "id": "AGCPvYegjnlo"
      }
    },
    {
      "cell_type": "code",
      "source": [
        "print(adjectives)\n",
        "print(n_nearest_neighbors_of_words(C_pmi, adjectives, V, V_set, 10))"
      ],
      "metadata": {
        "colab": {
          "base_uri": "https://localhost:8080/"
        },
        "outputId": "2003bcb4-0542-41e4-8b72-7cea8aa1c3c9",
        "id": "yKztdzCgKzSm"
      },
      "execution_count": 38,
      "outputs": [
        {
          "output_type": "stream",
          "name": "stdout",
          "text": [
            "['old', 'central', 'late', 'political', 'important']\n",
            "[['built' 'near' 'road' 'town' 'street' 'house' 'village' 'along' 'named'\n",
            "  'around']\n",
            " ['southern' 'south' 'east' 'northern' 'north' 'eastern' 'located' 'west'\n",
            "  'western' 'region']\n",
            " ['early' 'century' 'during' 'until' 'period' 'began' 'april' 'july'\n",
            "  'september' 'august']\n",
            " ['social' 'government' 'party' 'economic' 'movement' 'religious'\n",
            "  'rights' 'politics' 'civil' 'cultural']\n",
            " ['significant' 'most' 'such' 'these' 'various' 'many' 'development'\n",
            "  'include' 'often' 'especially']]\n"
          ]
        }
      ]
    },
    {
      "cell_type": "markdown",
      "source": [
        "#### Prepositions"
      ],
      "metadata": {
        "id": "pTMRK2RBjnlp"
      }
    },
    {
      "cell_type": "code",
      "source": [
        "print(prepositions)\n",
        "print(n_nearest_neighbors_of_words(C_pmi, prepositions, V, V_set, 10))"
      ],
      "metadata": {
        "colab": {
          "base_uri": "https://localhost:8080/"
        },
        "outputId": "52bff80c-afaa-4899-b360-6a7942a33ec1",
        "id": "_hJCfNDLKzSm"
      },
      "execution_count": 39,
      "outputs": [
        {
          "output_type": "stream",
          "name": "stdout",
          "text": [
            "['about', 'for', 'before', 'in', 'always']\n",
            "[['what' 'there' 'you' 'than' 'if' 'more' 'some' 'people' 'so' 'i']\n",
            " ['as' 'be' 'to' 'not' 'this' 'on' 'that' 'provide' 'their' 'a']\n",
            " ['after' 'then' 'when' 'until' 'during' 'later' 'him' 'again' 'out'\n",
            "  'back']\n",
            " ['at' 'was' 'of' 'the' 'university' 'from' 'first' 'he' 'city' 'january']\n",
            " ['your' 'something' 'we' 'me' 'even' 'often' 'might' 'because' 'very'\n",
            "  'must']]\n"
          ]
        }
      ]
    },
    {
      "cell_type": "markdown",
      "source": [
        "#### Multiple senses words "
      ],
      "metadata": {
        "id": "hxtTuN_ijnlp"
      }
    },
    {
      "cell_type": "code",
      "source": [
        "# multiple senses words \n",
        "print(multiple_sences_words)\n",
        "print(n_nearest_neighbors_of_words(C_pmi, multiple_sences_words, V, V_set, 10))"
      ],
      "metadata": {
        "colab": {
          "base_uri": "https://localhost:8080/"
        },
        "outputId": "085ab77b-d0e9-400c-c5a4-cf171100916e",
        "id": "H3DAWFQ5Wcy1"
      },
      "execution_count": 23,
      "outputs": [
        {
          "output_type": "stream",
          "name": "stdout",
          "text": [
            "['bank', 'cell', 'apple', 'apples', 'axes', 'frame', 'light', 'well']\n",
            "[['banks' 'river' 'corporation' 'company' 'west' 'capital' 'located'\n",
            "  'railway' 'banking' 'east']\n",
            " ['cells' 'protein' 'proteins' 'membrane' 'cellular' 'dna' 'receptor'\n",
            "  'signaling' 'molecules' 'blood']\n",
            " ['os' 'macintosh' 'microsoft' 'ios' 'mac' 'software' 'desktop' 'ipad'\n",
            "  'iphone' 'atari']\n",
            " ['oranges' 'sugarcane' 'fruits' 'fruit' 'citrus' 'tomatoes' 'corn'\n",
            "  'wheat' 'mango' 'seeds']\n",
            " ['grind' 'angles' 'vectors' 'axe' 'flint' 'intersect' 'orthogonal'\n",
            "  'coordinate' 'directions' 'neolithic']\n",
            " ['roof' 'steel' 'rear' 'brick' 'frames' 'structure' 'two-story' 'wooden'\n",
            "  'metal' 'one-story']\n",
            " ['using' 'surface' 'dark' 'water' 'red' 'usually' 'color' 'body' 'often'\n",
            "  'white']\n",
            " ['such' 'many' 'other' 'including' 'most' 'some' 'like' 'several'\n",
            "  'these' 'both']]\n"
          ]
        }
      ]
    },
    {
      "cell_type": "markdown",
      "source": [
        "### Analysis result\n",
        "\n",
        "Q1: Do nearest neighbors tend to have the same part-of-speech tag as the query word, or do they differ? (Nearest neighbors có cùng xu hướng cùng kiểu từ loại hay khác nhau?)\n",
        "\n",
        "A: Chúng có cùng kiểu\n",
        "\n",
        "Q2: Does the pattern differ across different part-of-speech tags for the query word? How does window size affect this?(Các từ trong mỗi kiểu từ loại có khác nhau về kiểu ý nghĩa hay không? Window size ảnh hưởng như thế nào?)\n",
        "\n",
        "A: Hầu hết các từ đơn nghĩa sẽ không khác nhau về kiểu ý nghĩa, các từ đa nghĩa sẽ trộn lẫn với nhau gây sự khác nhau về kiểu ý nghĩa. Window size khiến cho các từ tương đồng khác nhau ở mỗi window size, có thể sai đi hoặc đúng hơn.\n",
        "\n",
        "Q3: When the neighbors differ between window sizes, how do\n",
        "they differ? Can you find any query words that have almost exactly the same nearest neighbors with\n",
        "the two window sizes?\n",
        "\n",
        "A: ?????"
      ],
      "metadata": {
        "id": "gtnR0Jc-kZbk"
      }
    },
    {
      "cell_type": "markdown",
      "source": [
        "## 2 Dimensionality Reduction"
      ],
      "metadata": {
        "id": "mwSZK2ueZYo2"
      }
    },
    {
      "cell_type": "code",
      "source": [
        "from sklearn.decomposition import TruncatedSVD"
      ],
      "metadata": {
        "id": "pDgSSX_KbVtS"
      },
      "execution_count": 30,
      "outputs": []
    },
    {
      "cell_type": "code",
      "source": [
        "V = open(\"31190-a1-files/vocab-25k+wordsim.txt\").read().split(\"\\n\")[:-1]\n",
        "V_C = open(\"31190-a1-files/vocab-3k.txt\").read().split(\"\\n\")[:-1]\n",
        "V_set = {word: idx for idx, word in enumerate(V)}\n",
        "V_C_set = {word: idx for idx, word in enumerate(V_C)}"
      ],
      "metadata": {
        "id": "vXK0cXfWZdlo"
      },
      "execution_count": 24,
      "outputs": []
    },
    {
      "cell_type": "code",
      "source": [
        "C_pmi = []"
      ],
      "metadata": {
        "id": "8SxAtB7OaxFI"
      },
      "execution_count": 26,
      "outputs": []
    },
    {
      "cell_type": "code",
      "source": [
        "C_pmi = compute_PMI(counting(corpus, V, V_C, V_set, V_C_set, w=3))"
      ],
      "metadata": {
        "colab": {
          "base_uri": "https://localhost:8080/"
        },
        "outputId": "04931c8e-86d5-470b-aba9-d5b865928614",
        "id": "57fqvgtXaxFJ"
      },
      "execution_count": 27,
      "outputs": [
        {
          "output_type": "stream",
          "name": "stderr",
          "text": [
            "100%|██████████| 997898/997898 [01:44<00:00, 9565.13it/s] \n",
            "100%|██████████| 26577/26577 [01:00<00:00, 440.52it/s]\n"
          ]
        }
      ]
    },
    {
      "cell_type": "code",
      "source": [
        "# calculate baseline of Spearmanr\n",
        "spearmanr_correlation_MEN = eval_word_similarity(C_pmi, \"31190-a1-files/men.txt\")\n",
        "spearmanr_correlation_SimLex = eval_word_similarity(C_pmi, \"31190-a1-files/simlex-999.txt\")\n",
        "print(spearmanr_correlation_MEN, spearmanr_correlation_SimLex)"
      ],
      "metadata": {
        "colab": {
          "base_uri": "https://localhost:8080/"
        },
        "id": "xjt9kGfacMAq",
        "outputId": "0b2a5921-60f3-4f55-947a-ba33bae4c26f"
      },
      "execution_count": 29,
      "outputs": [
        {
          "output_type": "stream",
          "name": "stdout",
          "text": [
            "0.4253589402017067 0.18795052209223617\n"
          ]
        },
        {
          "output_type": "stream",
          "name": "stderr",
          "text": [
            "/usr/local/lib/python3.7/dist-packages/scipy/spatial/distance.py:699: RuntimeWarning: invalid value encountered in double_scalars\n",
            "  dist = 1.0 - uv / np.sqrt(uu * vv)\n"
          ]
        }
      ]
    },
    {
      "cell_type": "markdown",
      "source": [
        "### Compute the truncated SVD of Cpmi"
      ],
      "metadata": {
        "id": "IgZrPYMsdAaZ"
      }
    },
    {
      "cell_type": "code",
      "source": [
        "k_values = [10, 50, 100, 500, 1000]"
      ],
      "metadata": {
        "id": "2CUDSqAadgEi"
      },
      "execution_count": 31,
      "outputs": []
    },
    {
      "cell_type": "code",
      "source": [
        "def calculateSVD_C_pmi(C_pmi, k):\n",
        "  svd = TruncatedSVD(n_components=k, n_iter=7)\n",
        "  C_svd = svd.fit_transform(C_pmi)\n",
        "  print(C_svd.shape)\n",
        "  spearmanr_correlation_MEN = eval_word_similarity(C_svd, \"31190-a1-files/men.txt\")\n",
        "  spearmanr_correlation_SimLex = eval_word_similarity(C_svd, \"31190-a1-files/simlex-999.txt\")\n",
        "  print(spearmanr_correlation_MEN, spearmanr_correlation_SimLex)"
      ],
      "metadata": {
        "id": "Mj1uhOuuc_EN"
      },
      "execution_count": 47,
      "outputs": []
    },
    {
      "cell_type": "code",
      "source": [
        "for k in k_values:\n",
        "  calculateSVD_C_pmi(C_pmi, k)"
      ],
      "metadata": {
        "colab": {
          "base_uri": "https://localhost:8080/"
        },
        "id": "m53S0RtlhnOi",
        "outputId": "bbac3aa6-5887-44a9-aa48-7763ab6bb86e"
      },
      "execution_count": 48,
      "outputs": [
        {
          "output_type": "stream",
          "name": "stdout",
          "text": [
            "(26577, 10)\n",
            "0.2519587441740883 0.14792814542124177\n"
          ]
        },
        {
          "output_type": "stream",
          "name": "stderr",
          "text": [
            "/usr/local/lib/python3.7/dist-packages/scipy/spatial/distance.py:699: RuntimeWarning: invalid value encountered in double_scalars\n",
            "  dist = 1.0 - uv / np.sqrt(uu * vv)\n"
          ]
        },
        {
          "output_type": "stream",
          "name": "stdout",
          "text": [
            "(26577, 50)\n",
            "0.38950313339406056 0.1809739338171111\n"
          ]
        },
        {
          "output_type": "stream",
          "name": "stderr",
          "text": [
            "/usr/local/lib/python3.7/dist-packages/scipy/spatial/distance.py:699: RuntimeWarning: invalid value encountered in double_scalars\n",
            "  dist = 1.0 - uv / np.sqrt(uu * vv)\n"
          ]
        },
        {
          "output_type": "stream",
          "name": "stdout",
          "text": [
            "(26577, 100)\n"
          ]
        },
        {
          "output_type": "stream",
          "name": "stderr",
          "text": [
            "/usr/local/lib/python3.7/dist-packages/scipy/spatial/distance.py:699: RuntimeWarning: invalid value encountered in double_scalars\n",
            "  dist = 1.0 - uv / np.sqrt(uu * vv)\n"
          ]
        },
        {
          "output_type": "stream",
          "name": "stdout",
          "text": [
            "0.4212942064337926 0.19407990004506143\n",
            "(26577, 500)\n"
          ]
        },
        {
          "output_type": "stream",
          "name": "stderr",
          "text": [
            "/usr/local/lib/python3.7/dist-packages/scipy/spatial/distance.py:699: RuntimeWarning: invalid value encountered in double_scalars\n",
            "  dist = 1.0 - uv / np.sqrt(uu * vv)\n"
          ]
        },
        {
          "output_type": "stream",
          "name": "stdout",
          "text": [
            "0.43046451544195596 0.19020648979005148\n",
            "(26577, 1000)\n",
            "0.42805560669596865 0.19240255889479801\n"
          ]
        },
        {
          "output_type": "stream",
          "name": "stderr",
          "text": [
            "/usr/local/lib/python3.7/dist-packages/scipy/spatial/distance.py:699: RuntimeWarning: invalid value encountered in double_scalars\n",
            "  dist = 1.0 - uv / np.sqrt(uu * vv)\n"
          ]
        }
      ]
    },
    {
      "cell_type": "markdown",
      "source": [
        "Với k = {500, 1000} của spearmanr correlation của 2 tập dataset có giá trị cao hơn so với C_pmi ban đầu khi chưa giảm số chiều"
      ],
      "metadata": {
        "id": "iPBmgr43n7WN"
      }
    }
  ]
}